{
 "cells": [
  {
   "cell_type": "code",
   "execution_count": 1,
   "metadata": {
    "id": "vpn9s64BtmDz"
   },
   "outputs": [],
   "source": [
    "import pandas as pd\n",
    "from pathlib import Path\n",
    "import glob2\n",
    "import os"
   ]
  },
  {
   "cell_type": "code",
   "execution_count": 2,
   "metadata": {
    "id": "phWxOTAYtt6Y"
   },
   "outputs": [
    {
     "data": {
      "text/plain": [
       "['C:\\\\Users\\\\Ricardo\\\\Dropbox/Tese Irene/PYTHON - case studies/case_2\\\\B10623_PV.csv',\n",
       " 'C:\\\\Users\\\\Ricardo\\\\Dropbox/Tese Irene/PYTHON - case studies/case_2\\\\B10645_PV.csv',\n",
       " 'C:\\\\Users\\\\Ricardo\\\\Dropbox/Tese Irene/PYTHON - case studies/case_2\\\\B10646_PV.csv',\n",
       " 'C:\\\\Users\\\\Ricardo\\\\Dropbox/Tese Irene/PYTHON - case studies/case_2\\\\B10663_PV.csv',\n",
       " 'C:\\\\Users\\\\Ricardo\\\\Dropbox/Tese Irene/PYTHON - case studies/case_2\\\\B10666_PV.csv',\n",
       " 'C:\\\\Users\\\\Ricardo\\\\Dropbox/Tese Irene/PYTHON - case studies/case_2\\\\B10684_PV.csv',\n",
       " 'C:\\\\Users\\\\Ricardo\\\\Dropbox/Tese Irene/PYTHON - case studies/case_2\\\\B10688_PV.csv',\n",
       " 'C:\\\\Users\\\\Ricardo\\\\Dropbox/Tese Irene/PYTHON - case studies/case_2\\\\B10746_PV.csv',\n",
       " 'C:\\\\Users\\\\Ricardo\\\\Dropbox/Tese Irene/PYTHON - case studies/case_2\\\\B10753_PV.csv',\n",
       " 'C:\\\\Users\\\\Ricardo\\\\Dropbox/Tese Irene/PYTHON - case studies/case_2\\\\B10776_PV.csv',\n",
       " 'C:\\\\Users\\\\Ricardo\\\\Dropbox/Tese Irene/PYTHON - case studies/case_2\\\\B10807_PV.csv',\n",
       " 'C:\\\\Users\\\\Ricardo\\\\Dropbox/Tese Irene/PYTHON - case studies/case_2\\\\B10812_PV.csv',\n",
       " 'C:\\\\Users\\\\Ricardo\\\\Dropbox/Tese Irene/PYTHON - case studies/case_2\\\\B10839_PV.csv',\n",
       " 'C:\\\\Users\\\\Ricardo\\\\Dropbox/Tese Irene/PYTHON - case studies/case_2\\\\B10869_PV.csv',\n",
       " 'C:\\\\Users\\\\Ricardo\\\\Dropbox/Tese Irene/PYTHON - case studies/case_2\\\\B10903_PV.csv',\n",
       " 'C:\\\\Users\\\\Ricardo\\\\Dropbox/Tese Irene/PYTHON - case studies/case_2\\\\B11056_PV.csv',\n",
       " 'C:\\\\Users\\\\Ricardo\\\\Dropbox/Tese Irene/PYTHON - case studies/case_2\\\\B11073_PV.csv',\n",
       " 'C:\\\\Users\\\\Ricardo\\\\Dropbox/Tese Irene/PYTHON - case studies/case_2\\\\B11144_PV.csv',\n",
       " 'C:\\\\Users\\\\Ricardo\\\\Dropbox/Tese Irene/PYTHON - case studies/case_2\\\\B11161_PV.csv',\n",
       " 'C:\\\\Users\\\\Ricardo\\\\Dropbox/Tese Irene/PYTHON - case studies/case_2\\\\B11166_PV.csv',\n",
       " 'C:\\\\Users\\\\Ricardo\\\\Dropbox/Tese Irene/PYTHON - case studies/case_2\\\\B11176_PV.csv',\n",
       " 'C:\\\\Users\\\\Ricardo\\\\Dropbox/Tese Irene/PYTHON - case studies/case_2\\\\B11184_PV.csv',\n",
       " 'C:\\\\Users\\\\Ricardo\\\\Dropbox/Tese Irene/PYTHON - case studies/case_2\\\\B11190_PV.csv',\n",
       " 'C:\\\\Users\\\\Ricardo\\\\Dropbox/Tese Irene/PYTHON - case studies/case_2\\\\B11194_PV.csv',\n",
       " 'C:\\\\Users\\\\Ricardo\\\\Dropbox/Tese Irene/PYTHON - case studies/case_2\\\\B11203_PV.csv',\n",
       " 'C:\\\\Users\\\\Ricardo\\\\Dropbox/Tese Irene/PYTHON - case studies/case_2\\\\B11205_PV.csv',\n",
       " 'C:\\\\Users\\\\Ricardo\\\\Dropbox/Tese Irene/PYTHON - case studies/case_2\\\\B11219_PV.csv',\n",
       " 'C:\\\\Users\\\\Ricardo\\\\Dropbox/Tese Irene/PYTHON - case studies/case_2\\\\B11224_PV.csv',\n",
       " 'C:\\\\Users\\\\Ricardo\\\\Dropbox/Tese Irene/PYTHON - case studies/case_2\\\\B11234_PV.csv',\n",
       " 'C:\\\\Users\\\\Ricardo\\\\Dropbox/Tese Irene/PYTHON - case studies/case_2\\\\B11250_PV.csv']"
      ]
     },
     "execution_count": 2,
     "metadata": {},
     "output_type": "execute_result"
    }
   ],
   "source": [
    "import glob2\n",
    "import os\n",
    "# the path to your csv file directory\n",
    "mycsvdir = os.getcwd()\n",
    "# mycsvdir = r'C:\\Users\\irene\\Desktop\\jupyter\\test1\\case_2'\n",
    "# get all the csv files in that directory (assuming they have the extension .csv)\n",
    "csvfiles = glob2.glob(os.path.join(mycsvdir, 'B*[0-9].csv'))\n",
    "# get all the csv files in that directory (assuming they have the extension .csv)\n",
    "csvfiles_potencial = glob2.glob(os.path.join(mycsvdir, 'B*[0-9]_PV.csv'))\n",
    "csvfiles_potencial"
   ]
  },
  {
   "cell_type": "code",
   "execution_count": 3,
   "metadata": {
    "id": "LLWr3hwiSAnN"
   },
   "outputs": [],
   "source": [
    "## loop through the files and read them in with pandas\n",
    "dataframes = []  # a list to hold all the individual pandas DataFrames\n",
    "\n",
    "for csvfile in csvfiles:\n",
    "    file_name = os.path.splitext(os.path.basename(csvfile))[0]   # Getting the file name without extension\n",
    "    df = pd.read_csv(csvfile, sep =',', header= 0, parse_dates=['DATE'])\n",
    "    #correcting all dataframes\n",
    "    df['DATE'] = df['DATE'].dt.strftime('%Y-%m-%d %H:%M:%S')\n",
    "    df = df.set_index(['DATE'])\n",
    "    pd.to_datetime(df.index)\n",
    "    \n",
    "    #df.to_csv(file_name + \"_process\" + '.csv')\n",
    "    dataframes.append(df)"
   ]
  },
  {
   "cell_type": "code",
   "execution_count": 4,
   "metadata": {
    "id": "IuFRU-yPjldH"
   },
   "outputs": [],
   "source": [
    "# loop through the files and read them in with pandas\n",
    "dataframes_potencial_process = []  # a list to hold all the individual pandas DataFrames\n",
    "\n",
    "for csvfile_potencial in csvfiles_potencial:\n",
    "    file_name_potencial_process = os.path.splitext(os.path.basename(csvfile_potencial))[0]   # Getting the file name without extension\n",
    "    df_potencial = pd.read_csv(csvfile_potencial, sep =',', header= 0, parse_dates=['Date'])\n",
    "    #correcting all dataframes\n",
    "    df_potencial['Date'] = df_potencial['Date'].dt.strftime('%Y-%m-%d %H:%M:%S')\n",
    "    df_potencial = df_potencial.set_index(['Date'])\n",
    "    pd.to_datetime(df_potencial.index)\n",
    "    #df_potencial.to_csv(file_name_potencial_process + \"_process\" + '.csv')\n",
    "    dataframes_potencial_process.append(df_potencial)"
   ]
  },
  {
   "cell_type": "code",
   "execution_count": 16,
   "metadata": {
    "id": "ohWzL_RCsPE3"
   },
   "outputs": [],
   "source": [
    "pairs = [pd.concat(d, axis=1) for d in zip(dataframes,dataframes_potencial_process)]"
   ]
  },
  {
   "cell_type": "code",
   "execution_count": 17,
   "metadata": {
    "id": "ohWzL_RCsPE3"
   },
   "outputs": [
    {
     "data": {
      "text/plain": [
       "Index(['Name', 'people', 'x_int', 'PV_kWh', 'GRID_kWh', 'GRID_a_kWh',\n",
       "       'GRID_l_kWh', 'GRID_v_kWh', 'GRID_ve_kWh', 'GRID_data_kWh',\n",
       "       ...\n",
       "       'PV_walls_north_m2', 'PV_roofs_top_E_kWh', 'PV_roofs_top_m2',\n",
       "       'PV_walls_east_E_kWh', 'PV_walls_east_m2', 'PV_walls_west_E_kWh',\n",
       "       'PV_walls_west_m2', 'E_PV_gen_kWh', 'radiation_kWh', 'Area_PV_m2'],\n",
       "      dtype='object', length=149)"
      ]
     },
     "execution_count": 17,
     "metadata": {},
     "output_type": "execute_result"
    }
   ],
   "source": [
    "pairs[0].columns"
   ]
  },
  {
   "cell_type": "code",
   "execution_count": 12,
   "metadata": {
    "colab": {
     "base_uri": "https://localhost:8080/",
     "height": 421
    },
    "id": "P9Pe9adhckrN",
    "outputId": "f540ee31-c071-4bb9-f7b0-ae3695b0a301"
   },
   "outputs": [],
   "source": [
    "for pair1 in pairs:\n",
    "    pair1['Enet']=pair1['GRID_kWh']-pair1['E_PV_gen_kWh']\n",
    "for final in pairs:\n",
    "    final.to_csv(final['Name'][0]+\"_final.csv\")"
   ]
  },
  {
   "cell_type": "code",
   "execution_count": 13,
   "metadata": {},
   "outputs": [],
   "source": []
  },
  {
   "cell_type": "code",
   "execution_count": null,
   "metadata": {},
   "outputs": [],
   "source": []
  },
  {
   "cell_type": "code",
   "execution_count": null,
   "metadata": {},
   "outputs": [],
   "source": []
  }
 ],
 "metadata": {
  "colab": {
   "collapsed_sections": [],
   "name": "«solar demand_vRG.ipynb",
   "provenance": [],
   "toc_visible": true
  },
  "kernelspec": {
   "display_name": "Python 3 (ipykernel)",
   "language": "python",
   "name": "python3"
  },
  "language_info": {
   "codemirror_mode": {
    "name": "ipython",
    "version": 3
   },
   "file_extension": ".py",
   "mimetype": "text/x-python",
   "name": "python",
   "nbconvert_exporter": "python",
   "pygments_lexer": "ipython3",
   "version": "3.11.0"
  }
 },
 "nbformat": 4,
 "nbformat_minor": 4
}
